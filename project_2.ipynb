{
 "cells": [
  {
   "cell_type": "code",
   "execution_count": 1,
   "metadata": {},
   "outputs": [],
   "source": [
    "import pandas as pd\n",
    "import pandahouse as ph"
   ]
  },
  {
   "cell_type": "code",
   "execution_count": 2,
   "metadata": {},
   "outputs": [],
   "source": [
    "connection_default = {'host': 'https://clickhouse.lab.karpov.courses',\n",
    "                      'database':'default',\n",
    "                      'user':'student', \n",
    "                      'password':'dpo_python_2020'\n",
    "                     }"
   ]
  },
  {
   "cell_type": "markdown",
   "metadata": {},
   "source": [
    "Задание 2. SQL 2.1 Очень усердные ученики.\n",
    "\n",
    "2.1.1 Условие\n",
    "\n",
    "Образовательные курсы состоят из различных уроков, каждый из которых состоит из нескольких маленьких заданий. Каждое такое маленькое задание называется \"горошиной\".\n",
    "\n",
    "Назовём очень усердным учеником того пользователя, который хотя бы раз за текущий месяц правильно решил 20 горошин."
   ]
  },
  {
   "cell_type": "code",
   "execution_count": 3,
   "metadata": {},
   "outputs": [
    {
     "data": {
      "text/html": [
       "<div>\n",
       "<style scoped>\n",
       "    .dataframe tbody tr th:only-of-type {\n",
       "        vertical-align: middle;\n",
       "    }\n",
       "\n",
       "    .dataframe tbody tr th {\n",
       "        vertical-align: top;\n",
       "    }\n",
       "\n",
       "    .dataframe thead th {\n",
       "        text-align: right;\n",
       "    }\n",
       "</style>\n",
       "<table border=\"1\" class=\"dataframe\">\n",
       "  <thead>\n",
       "    <tr style=\"text-align: right;\">\n",
       "      <th></th>\n",
       "      <th>uniq_id</th>\n",
       "    </tr>\n",
       "  </thead>\n",
       "  <tbody>\n",
       "    <tr>\n",
       "      <th>0</th>\n",
       "      <td>136</td>\n",
       "    </tr>\n",
       "  </tbody>\n",
       "</table>\n",
       "</div>"
      ],
      "text/plain": [
       "   uniq_id\n",
       "0      136"
      ]
     },
     "execution_count": 3,
     "metadata": {},
     "output_type": "execute_result"
    }
   ],
   "source": [
    "q = '''\n",
    "SELECT uniqExact(st_id) as uniq_id\n",
    "FROM\n",
    "    (SELECT st_id, \n",
    "            SUM(correct) AS sym_cor \n",
    "    FROM peas\n",
    "    WHERE correct > 0\n",
    "    GROUP BY st_id\n",
    "    HAVING sym_cor>=20)\n",
    "\n",
    "    '''\n",
    "\n",
    "# отправляем запрос и записываем результат в пандасовский датафрейм\n",
    "q_test = ph.read_clickhouse(query=q, connection=connection_default)\n",
    "q_test"
   ]
  },
  {
   "cell_type": "markdown",
   "metadata": {},
   "source": [
    "2.2 Оптимизация воронки\n",
    "\n",
    "2.2.1 Условие\n",
    "\n",
    "Образовательная платформа предлагает пройти студентам курсы по модели trial: студент может решить бесплатно лишь 30 горошин в день. Для неограниченного количества заданий в определенной дисциплине студенту необходимо приобрести полный доступ. Команда провела эксперимент, где был протестирован новый экран оплаты."
   ]
  },
  {
   "cell_type": "code",
   "execution_count": 4,
   "metadata": {},
   "outputs": [
    {
     "data": {
      "text/html": [
       "<div>\n",
       "<style scoped>\n",
       "    .dataframe tbody tr th:only-of-type {\n",
       "        vertical-align: middle;\n",
       "    }\n",
       "\n",
       "    .dataframe tbody tr th {\n",
       "        vertical-align: top;\n",
       "    }\n",
       "\n",
       "    .dataframe thead th {\n",
       "        text-align: right;\n",
       "    }\n",
       "</style>\n",
       "<table border=\"1\" class=\"dataframe\">\n",
       "  <thead>\n",
       "    <tr style=\"text-align: right;\">\n",
       "      <th></th>\n",
       "      <th>ARPU</th>\n",
       "      <th>ARPAU</th>\n",
       "      <th>CR</th>\n",
       "      <th>CR_ACTIV</th>\n",
       "      <th>CR_MATH</th>\n",
       "    </tr>\n",
       "  </thead>\n",
       "  <tbody>\n",
       "    <tr>\n",
       "      <th>0</th>\n",
       "      <td>4540.983607</td>\n",
       "      <td>9111.842105</td>\n",
       "      <td>5.25</td>\n",
       "      <td>9.87</td>\n",
       "      <td>11.76</td>\n",
       "    </tr>\n",
       "    <tr>\n",
       "      <th>1</th>\n",
       "      <td>11508.474576</td>\n",
       "      <td>27827.868852</td>\n",
       "      <td>11.19</td>\n",
       "      <td>21.31</td>\n",
       "      <td>13.33</td>\n",
       "    </tr>\n",
       "  </tbody>\n",
       "</table>\n",
       "</div>"
      ],
      "text/plain": [
       "           ARPU         ARPAU     CR  CR_ACTIV  CR_MATH\n",
       "0   4540.983607   9111.842105   5.25      9.87    11.76\n",
       "1  11508.474576  27827.868852  11.19     21.31    13.33"
      ]
     },
     "execution_count": 4,
     "metadata": {},
     "output_type": "execute_result"
    }
   ],
   "source": [
    "q = '''\n",
    "\n",
    "SELECT \n",
    "    SUM(fc.money)/uniqExact(s.st_id) as ARPU,\n",
    "    SUM(fc.money)/uniqExact(ac.st_id) as ARPAU,\n",
    "    ROUND((uniqExact(fc.st_id) / uniqExact(s.st_id)*100),2) as CR,\n",
    "    ROUND((uniqExact(CASE WHEN fc.st_id IN (SELECT st_id\n",
    "                                    FROM peas\n",
    "                                    GROUP BY st_id\n",
    "                                    HAVING COUNT(correct)>10) THEN fc.st_id END) / uniqExact(ac.st_id)*100),2) as CR_ACTIV,\n",
    "    ROUND((uniqExact(CASE WHEN fc.st_id IN (SELECT st_id\n",
    "                                    FROM peas\n",
    "                                    WHERE subject = 'Math'\n",
    "                                    GROUP BY st_id\n",
    "                                    HAVING COUNT(correct) >= 2) THEN fc.st_id END) / uniqExact(ac_m.st_id)*100),2) as CR_MATH\n",
    "    \n",
    "FROM studs as s\n",
    "LEFT JOIN (\n",
    "    SELECT st_id\n",
    "    FROM peas\n",
    "    GROUP BY st_id\n",
    "    HAVING COUNT(correct)>10) as ac\n",
    "ON s.st_id = ac.st_id\n",
    "        LEFT JOIN (\n",
    "            SELECT st_id\n",
    "            FROM peas\n",
    "            WHERE subject = 'Math'\n",
    "            GROUP BY st_id\n",
    "            HAVING COUNT(correct) >= 2) as ac_m\n",
    "        ON s.st_id=ac_m.st_id\n",
    "                LEFT JOIN final_project_check as fc\n",
    "                ON s.st_id = fc.st_id\n",
    "GROUP BY s.test_grp\n",
    "      \n",
    "\n",
    "    '''\n",
    "\n",
    "# отправляем запрос и записываем результат в пандасовский датафрейм.\n",
    "q_test = ph.read_clickhouse(query=q, connection=connection_default)\n",
    "q_test.head()"
   ]
  },
  {
   "cell_type": "code",
   "execution_count": null,
   "metadata": {},
   "outputs": [],
   "source": []
  }
 ],
 "metadata": {
  "kernelspec": {
   "display_name": "Python 3",
   "language": "python",
   "name": "python3"
  },
  "language_info": {
   "codemirror_mode": {
    "name": "ipython",
    "version": 3
   },
   "file_extension": ".py",
   "mimetype": "text/x-python",
   "name": "python",
   "nbconvert_exporter": "python",
   "pygments_lexer": "ipython3",
   "version": "3.7.3"
  }
 },
 "nbformat": 4,
 "nbformat_minor": 4
}
