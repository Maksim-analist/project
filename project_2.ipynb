{
 "cells": [
  {
   "cell_type": "code",
   "execution_count": 1,
   "metadata": {},
   "outputs": [],
   "source": [
    "# Импорт библиотеки для работы с clickhouse\n",
    "import pandahouse as ph"
   ]
  },
  {
   "cell_type": "code",
   "execution_count": 2,
   "metadata": {},
   "outputs": [],
   "source": [
    "# Парамаетры подключения к clickhouse\n",
    "connection_default = {'host': 'https://clickhouse.lab.karpov.courses',\n",
    "                      'database':'default',\n",
    "                      'user':'student', \n",
    "                      'password':'dpo_python_2020'\n",
    "                     }"
   ]
  },
  {
   "cell_type": "markdown",
   "metadata": {},
   "source": [
    "<div class = \"alert alert-block alert-info\"\n",
    "<div>\n",
    "Условие 1 задачи.\n",
    "\n",
    "Образовательные курсы состоят из различных уроков, каждый из которых состоит из нескольких маленьких заданий. Каждое такое маленькое задание называется \"горошиной\". Назовём очень усердным учеником того пользователя, который хотя бы раз за текущий месяц правильно решил 20 горошин. \n",
    "\n",
    "Необходимо написать оптимальный запрос, который даст информацию о количестве очень усердных студентов.NB! \n",
    "\n",
    "Под усердным студентом мы понимаем студента, который правильно решил 20 задач за текущий месяц."
   ]
  },
  {
   "cell_type": "code",
   "execution_count": 5,
   "metadata": {},
   "outputs": [
    {
     "name": "stdout",
     "output_type": "stream",
     "text": [
      "Кол-во усердных учеников равно 136\n"
     ]
    }
   ],
   "source": [
    "# Решение 1 задачи\n",
    "q_1 = '''\n",
    "    SELECT\n",
    "        uniqExact(st_id) AS count_good_fellows\n",
    "    FROM\n",
    "        (\n",
    "            SELECT\n",
    "                st_id,\n",
    "                SUM(correct) AS count_correct_tasks\n",
    "            FROM peas\n",
    "            WHERE correct = 1\n",
    "            GROUP BY\n",
    "                st_id\n",
    "            HAVING\n",
    "                count_correct_tasks >= 20\n",
    "        )\n",
    "    '''\n",
    "df_sql_1 = ph.read_clickhouse(query=q_1, connection=connection_default)\n",
    "print(f'Кол-во усердных учеников равно {df_sql_1.count_good_fellows[0]}')"
   ]
  },
  {
   "cell_type": "markdown",
   "metadata": {},
   "source": [
    "<div class = \"alert alert-block alert-info\"\n",
    "<div>\n",
    "Условие 2 задачи.\n",
    "\n",
    "Образовательная платформа предлагает пройти студентам курсы по модели trial: студент может решить бесплатно лишь 30 горошин в день. Для неограниченного количества заданий в определенной дисциплине студенту необходимо приобрести полный доступ. Команда провела эксперимент, где был протестирован новый экран оплаты. \n",
    "\n",
    "Необходимо в одном запросе выгрузить следующую информацию о группах пользователей: \n",
    "\n",
    "ARPU (Доход / Общее кол-во пользователей)\n",
    "\n",
    "ARPAU (Доход / Кол-во активных пользоватлей)\n",
    "\n",
    "CR в покупку (Пользователи, которые купили курс / Общее кол-во пользоватлей) \n",
    "\n",
    "СR активного пользователя в покупку (Пользователи, которые купили курс/ Общее кол-во пользвателей)\n",
    "\n",
    "CR пользователя из активности по математике (subject = ’math’) в покупку курса по математике (Пользователи, которые активные в математике и купили курс / Кол-во пользователей, которые купили кур по математике).\n",
    "\n",
    "ARPU считается относительно всех пользователей, попавших в группы. Активным считается пользователь, за все время решивший больше 10 задач правильно в любых дисциплинах. Активным по математике считается пользователь, за все время решивший 2 или больше задач правильно по математике.\n",
    "\n",
    "Активными считаю тех, кто решил >10 задач или активен по математике."
   ]
  },
  {
   "cell_type": "code",
   "execution_count": 6,
   "metadata": {},
   "outputs": [
    {
     "name": "stdout",
     "output_type": "stream",
     "text": [
      "  test_grp          ARPU         ARPAU        CR       CRA  CR_math\n",
      "0  control   4540.983607  10335.820896  0.058442  0.131387    0.375\n",
      "1    pilot  11508.474576  31146.788991  0.140523  0.361345    0.250\n"
     ]
    }
   ],
   "source": [
    "# Решение 2 задачи \n",
    "q = '''\n",
    "SELECT \n",
    "    test_grp,\n",
    "    SUM(money) / uniqExact(st_id) AS ARPU,\n",
    "    SUM(money) / countIf(DISTINCT st_id, correct > 10 OR active_math = 1) AS ARPAU,\n",
    "    SUM(purchase) / count(st_id) AS CR,\n",
    "    SUM(purchase) / countIf(st_id, correct > 10 OR active_math = 1) AS CRA,\n",
    "    sumIf(purchase, buy_math = 1 AND active_math = 1) / countIf(st_id, buy_math = 1) AS CR_math\n",
    "FROM    \n",
    "    (SELECT st_id, test_grp, subjects, correct, active_math, If(correct > 10, 1,0) AS active_user, money, If(money > 0, 1, 0) AS purchase, If(money > 0 AND subject = 'Math', 1, 0) AS buy_math\n",
    "    FROM\n",
    "        (SELECT *\n",
    "        FROM    \n",
    "            studs AS l\n",
    "        LEFT JOIN\n",
    "            (SELECT st_id, groupArray(subject) AS subjects, SUM(correct) AS correct, SUM(active_math) AS active_math\n",
    "            FROM\n",
    "                (SELECT\n",
    "                    st_id,\n",
    "                    subject,\n",
    "                    SUM(correct) AS correct,\n",
    "                    If(correct > 2 AND subject='Math', 1, 0) AS active_math\n",
    "                FROM peas\n",
    "                GROUP BY \n",
    "                    st_id,\n",
    "                    subject)\n",
    "            GROUP BY\n",
    "                st_id) AS r\n",
    "        ON l.st_id = r.st_id) AS l\n",
    "    LEFT JOIN \n",
    "        final_project_check AS r\n",
    "    ON l.st_id = r.st_id)\n",
    "GROUP BY\n",
    "    test_grp\n",
    "    '''\n",
    "df_sql = ph.read_clickhouse(query=q, connection=connection_default)\n",
    "print(df_sql)"
   ]
  },
  {
   "cell_type": "code",
   "execution_count": null,
   "metadata": {},
   "outputs": [],
   "source": []
  }
 ],
 "metadata": {
  "kernelspec": {
   "display_name": "Python 3",
   "language": "python",
   "name": "python3"
  },
  "language_info": {
   "codemirror_mode": {
    "name": "ipython",
    "version": 3
   },
   "file_extension": ".py",
   "mimetype": "text/x-python",
   "name": "python",
   "nbconvert_exporter": "python",
   "pygments_lexer": "ipython3",
   "version": "3.7.3"
  }
 },
 "nbformat": 4,
 "nbformat_minor": 4
}
