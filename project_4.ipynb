{
 "cells": [
  {
   "cell_type": "code",
   "execution_count": 1,
   "metadata": {},
   "outputs": [],
   "source": [
    "import pandas as pd\n",
    "import requests\n",
    "from urllib.parse import urlencode\n",
    "from datetime import datetime\n",
    "from bs4 import BeautifulSoup\n",
    "import numpy as np\n",
    "import matplotlib.pyplot as plt\n",
    "from scipy.stats import shapiro\n",
    "from scipy.stats import bootstrap\n",
    "import seaborn as sns\n",
    "import scipy.stats as ss\n",
    "from scipy import stats\n",
    "from tqdm.auto import tqdm\n",
    "from scipy.stats import norm\n",
    "import pandahouse as ph"
   ]
  },
  {
   "cell_type": "markdown",
   "metadata": {},
   "source": [
    "**Проект: вариант 2\n",
    "Задание 1. A/B–тестирование\n",
    "1.1 Условие**\n",
    "\n",
    "Одной из основных задач аналитика в нашей команде является корректное проведение экспериментов. Для этого мы применяем метод A/B–тестирования. В ходе тестирования одной гипотезы целевой группе была предложена новая механика оплаты услуг на сайте, у контрольной группы оставалась базовая механика. В качестве задания Вам необходимо проанализировать итоги эксперимента и сделать вывод, стоит ли запускать новую механику оплаты на всех пользователей."
   ]
  },
  {
   "cell_type": "markdown",
   "metadata": {},
   "source": [
    "Скачиваем файлы по ссылкам и предварительно посмотрев файлы, делаем из одного столбца с данными два при чтении файла с помощью sep = ';'"
   ]
  },
  {
   "cell_type": "markdown",
   "metadata": {},
   "source": [
    "\n",
    "напишем функцию для скачивания данных с яндекс диска\n"
   ]
  },
  {
   "cell_type": "code",
   "execution_count": 102,
   "metadata": {},
   "outputs": [],
   "source": [
    "def download (path):\n",
    "    base_url = 'https://cloud-api.yandex.net/v1/disk/public/resources/download?'\n",
    "    public_key = input('введите ссылку для скачивания с Яндекс диска:  ')  # Сюда вписываете вашу ссылку\n",
    "\n",
    "    # Получаем загрузочную ссылку\n",
    "    final_url = base_url + urlencode(dict(public_key=public_key))\n",
    "    response = requests.get(final_url)\n",
    "    download_url = response.json()['href']\n",
    "\n",
    "    if input('использовать sep = ; ? : да/нет') == ('да' or 'lf'): # для удобства добавим \"IF\" если вдруг не изменили на русскую раскладку\n",
    "        df = pd.read_csv(download_url,sep = ';')\n",
    "    else:\n",
    "        df = pd.read_csv(download_url)\n",
    "    return df\n",
    "    "
   ]
  },
  {
   "cell_type": "code",
   "execution_count": 5,
   "metadata": {},
   "outputs": [
    {
     "name": "stdout",
     "output_type": "stream",
     "text": [
      "введите ссылку для скачивания с Яндекс диска:  https://disk.yandex.ru/d/UhyYx41rTt3clQ\n",
      "использовать sep = ; ? : да/нетда\n"
     ]
    }
   ],
   "source": [
    "group = download('')"
   ]
  },
  {
   "cell_type": "code",
   "execution_count": 89,
   "metadata": {},
   "outputs": [
    {
     "name": "stdout",
     "output_type": "stream",
     "text": [
      "введите ссылку для скачивания с Яндекс диска:  https://disk.yandex.ru/d/5Kxrz02m3IBUwQ\n",
      "использовать sep = ; ? : да/нетlf\n"
     ]
    }
   ],
   "source": [
    "group_add = download('')"
   ]
  },
  {
   "cell_type": "code",
   "execution_count": 8,
   "metadata": {},
   "outputs": [
    {
     "name": "stdout",
     "output_type": "stream",
     "text": [
      "введите ссылку для скачивания с Яндекс диска:  https://disk.yandex.ru/d/Tbs44Bm6H_FwFQ\n",
      "использовать sep = ; ? : да/нетда\n"
     ]
    }
   ],
   "source": [
    "active_studs = download('')"
   ]
  },
  {
   "cell_type": "code",
   "execution_count": 9,
   "metadata": {},
   "outputs": [
    {
     "name": "stdout",
     "output_type": "stream",
     "text": [
      "введите ссылку для скачивания с Яндекс диска:  https://disk.yandex.ru/d/pH1q-VqcxXjsVA\n",
      "использовать sep = ; ? : да/нетнет\n"
     ]
    }
   ],
   "source": [
    "checks = download('')"
   ]
  },
  {
   "cell_type": "markdown",
   "metadata": {},
   "source": [
    "Посмотрим визуально на все данные и посмотрим по ним информацию "
   ]
  },
  {
   "cell_type": "code",
   "execution_count": 10,
   "metadata": {},
   "outputs": [
    {
     "data": {
      "text/html": [
       "<div>\n",
       "<style scoped>\n",
       "    .dataframe tbody tr th:only-of-type {\n",
       "        vertical-align: middle;\n",
       "    }\n",
       "\n",
       "    .dataframe tbody tr th {\n",
       "        vertical-align: top;\n",
       "    }\n",
       "\n",
       "    .dataframe thead th {\n",
       "        text-align: right;\n",
       "    }\n",
       "</style>\n",
       "<table border=\"1\" class=\"dataframe\">\n",
       "  <thead>\n",
       "    <tr style=\"text-align: right;\">\n",
       "      <th></th>\n",
       "      <th>id</th>\n",
       "      <th>grp</th>\n",
       "    </tr>\n",
       "  </thead>\n",
       "  <tbody>\n",
       "    <tr>\n",
       "      <th>0</th>\n",
       "      <td>1489</td>\n",
       "      <td>B</td>\n",
       "    </tr>\n",
       "    <tr>\n",
       "      <th>1</th>\n",
       "      <td>1627</td>\n",
       "      <td>A</td>\n",
       "    </tr>\n",
       "    <tr>\n",
       "      <th>2</th>\n",
       "      <td>1768</td>\n",
       "      <td>B</td>\n",
       "    </tr>\n",
       "    <tr>\n",
       "      <th>3</th>\n",
       "      <td>1783</td>\n",
       "      <td>B</td>\n",
       "    </tr>\n",
       "    <tr>\n",
       "      <th>4</th>\n",
       "      <td>1794</td>\n",
       "      <td>A</td>\n",
       "    </tr>\n",
       "  </tbody>\n",
       "</table>\n",
       "</div>"
      ],
      "text/plain": [
       "     id grp\n",
       "0  1489   B\n",
       "1  1627   A\n",
       "2  1768   B\n",
       "3  1783   B\n",
       "4  1794   A"
      ]
     },
     "execution_count": 10,
     "metadata": {},
     "output_type": "execute_result"
    }
   ],
   "source": [
    "#посморим как выглядит наш дф визуально\n",
    "group.head()"
   ]
  },
  {
   "cell_type": "code",
   "execution_count": 11,
   "metadata": {},
   "outputs": [
    {
     "name": "stdout",
     "output_type": "stream",
     "text": [
      "<class 'pandas.core.frame.DataFrame'>\n",
      "RangeIndex: 74484 entries, 0 to 74483\n",
      "Data columns (total 2 columns):\n",
      " #   Column  Non-Null Count  Dtype \n",
      "---  ------  --------------  ----- \n",
      " 0   id      74484 non-null  int64 \n",
      " 1   grp     74484 non-null  object\n",
      "dtypes: int64(1), object(1)\n",
      "memory usage: 1.1+ MB\n"
     ]
    }
   ],
   "source": [
    "#видим что данные преобразовывать не нужно\n",
    "group.info()"
   ]
  },
  {
   "cell_type": "code",
   "execution_count": 12,
   "metadata": {},
   "outputs": [
    {
     "name": "stdout",
     "output_type": "stream",
     "text": [
      "кол-во строк               = 74484\n",
      "кол-во уникальных значений = 74484\n",
      "все значения по столбцу id уникальны\n",
      "в данных отсутсвуют пустые значения\n",
      "число пользователей в контрольной группе_A       =  14671\n",
      "число пользователей в эксперементальной группе_В =  59813\n",
      "график распределения погруппам\n",
      "AxesSubplot(0.125,0.125;0.775x0.755)\n"
     ]
    },
    {
     "data": {
      "image/png": "[encoded data removed]",
      "text/plain": [
       "<Figure size 432x288 with 1 Axes>"
      ]
     },
     "metadata": {
      "needs_background": "light"
     },
     "output_type": "display_data"
    }
   ],
   "source": [
    "print(\"кол-во строк               =\", group.shape[0])\n",
    "print(\"кол-во уникальных значений =\", group.id.nunique())\n",
    "if group.shape[0] == group.id.nunique():\n",
    "     print(\"все значения по столбцу id уникальны\")\n",
    "else:\n",
    "        print(\"Ошибка: надо докрутить данные\")\n",
    "if np.any(group.isna().values) == False:\n",
    "    print(\"в данных отсутсвуют пустые значения\")\n",
    "else:\n",
    "    print(\"Ошибка: надо докрутить данные\")\n",
    "print(\"число пользователей в контрольной группе_A       = \", group.query('grp==\"A\"')['grp'].count())\n",
    "print(\"число пользователей в эксперементальной группе_В = \", group.query('grp==\"B\"')['grp'].count())\n",
    "x= group.grp.value_counts()\n",
    "print(\"график распределения погруппам\")\n",
    "print(x.plot.bar())"
   ]
  },
  {
   "cell_type": "code",
   "execution_count": 104,
   "metadata": {},
   "outputs": [
    {
     "data": {
      "text/html": [
       "<div>\n",
       "<style scoped>\n",
       "    .dataframe tbody tr th:only-of-type {\n",
       "        vertical-align: middle;\n",
       "    }\n",
       "\n",
       "    .dataframe tbody tr th {\n",
       "        vertical-align: top;\n",
       "    }\n",
       "\n",
       "    .dataframe thead th {\n",
       "        text-align: right;\n",
       "    }\n",
       "</style>\n",
       "<table border=\"1\" class=\"dataframe\">\n",
       "  <thead>\n",
       "    <tr style=\"text-align: right;\">\n",
       "      <th></th>\n",
       "      <th>id</th>\n",
       "      <th>grp</th>\n",
       "    </tr>\n",
       "  </thead>\n",
       "  <tbody>\n",
       "    <tr>\n",
       "      <th>0</th>\n",
       "      <td>5694584</td>\n",
       "      <td>B</td>\n",
       "    </tr>\n",
       "    <tr>\n",
       "      <th>1</th>\n",
       "      <td>5694830</td>\n",
       "      <td>B</td>\n",
       "    </tr>\n",
       "    <tr>\n",
       "      <th>2</th>\n",
       "      <td>5695057</td>\n",
       "      <td>B</td>\n",
       "    </tr>\n",
       "    <tr>\n",
       "      <th>3</th>\n",
       "      <td>5698872</td>\n",
       "      <td>B</td>\n",
       "    </tr>\n",
       "    <tr>\n",
       "      <th>4</th>\n",
       "      <td>5699067</td>\n",
       "      <td>B</td>\n",
       "    </tr>\n",
       "  </tbody>\n",
       "</table>\n",
       "</div>"
      ],
      "text/plain": [
       "        id grp\n",
       "0  5694584   B\n",
       "1  5694830   B\n",
       "2  5695057   B\n",
       "3  5698872   B\n",
       "4  5699067   B"
      ]
     },
     "execution_count": 104,
     "metadata": {},
     "output_type": "execute_result"
    }
   ],
   "source": [
    "group_add.head()"
   ]
  },
  {
   "cell_type": "code",
   "execution_count": 105,
   "metadata": {},
   "outputs": [
    {
     "name": "stdout",
     "output_type": "stream",
     "text": [
      "<class 'pandas.core.frame.DataFrame'>\n",
      "RangeIndex: 92 entries, 0 to 91\n",
      "Data columns (total 2 columns):\n",
      " #   Column  Non-Null Count  Dtype \n",
      "---  ------  --------------  ----- \n",
      " 0   id      92 non-null     int64 \n",
      " 1   grp     92 non-null     object\n",
      "dtypes: int64(1), object(1)\n",
      "memory usage: 1.6+ KB\n"
     ]
    }
   ],
   "source": [
    "group_add.info()"
   ]
  },
  {
   "cell_type": "code",
   "execution_count": 107,
   "metadata": {},
   "outputs": [
    {
     "name": "stdout",
     "output_type": "stream",
     "text": [
      "кол-во строк               = 92\n",
      "кол-во уникальных значений = 92\n",
      "все значения по столбцу id уникальны\n",
      "в данных отсутсвуют пустые значения\n",
      "число пользователей в контрольной группе_A       =  22\n",
      "число пользователей в эксперементальной группе_В =  70\n",
      "график распределения погруппам\n",
      "AxesSubplot(0.125,0.125;0.775x0.755)\n"
     ]
    },
    {
     "data": {
      "image/png": "[encoded data removed]",
      "text/plain": [
       "<Figure size 1080x1080 with 1 Axes>"
      ]
     },
     "metadata": {},
     "output_type": "display_data"
    }
   ],
   "source": [
    "print(\"кол-во строк               =\", group_add.shape[0])\n",
    "print(\"кол-во уникальных значений =\", group_add.id.nunique())\n",
    "if group_add.shape[0] == group_add.id.nunique():\n",
    "     print(\"все значения по столбцу id уникальны\")\n",
    "else:\n",
    "        print(\"Ошибка: надо докрутить данные\")\n",
    "if np.any(group_add.isna().values) == False:\n",
    "    print(\"в данных отсутсвуют пустые значения\")\n",
    "else:\n",
    "    print(\"Ошибка: надо докрутить данные\")\n",
    "print(\"число пользователей в контрольной группе_A       = \", group_add.query('grp==\"A\"')['grp'].count())\n",
    "print(\"число пользователей в эксперементальной группе_В = \", group_add.query('grp==\"B\"')['grp'].count())\n",
    "x= group_add.grp.value_counts()\n",
    "print(\"график распределения погруппам\")\n",
    "print(x.plot.bar())"
   ]
  },
  {
   "cell_type": "code",
   "execution_count": 108,
   "metadata": {},
   "outputs": [
    {
     "data": {
      "text/html": [
       "<div>\n",
       "<style scoped>\n",
       "    .dataframe tbody tr th:only-of-type {\n",
       "        vertical-align: middle;\n",
       "    }\n",
       "\n",
       "    .dataframe tbody tr th {\n",
       "        vertical-align: top;\n",
       "    }\n",
       "\n",
       "    .dataframe thead th {\n",
       "        text-align: right;\n",
       "    }\n",
       "</style>\n",
       "<table border=\"1\" class=\"dataframe\">\n",
       "  <thead>\n",
       "    <tr style=\"text-align: right;\">\n",
       "      <th></th>\n",
       "      <th>student_id</th>\n",
       "    </tr>\n",
       "  </thead>\n",
       "  <tbody>\n",
       "    <tr>\n",
       "      <th>0</th>\n",
       "      <td>581585</td>\n",
       "    </tr>\n",
       "    <tr>\n",
       "      <th>1</th>\n",
       "      <td>5723133</td>\n",
       "    </tr>\n",
       "    <tr>\n",
       "      <th>2</th>\n",
       "      <td>3276743</td>\n",
       "    </tr>\n",
       "    <tr>\n",
       "      <th>3</th>\n",
       "      <td>4238589</td>\n",
       "    </tr>\n",
       "    <tr>\n",
       "      <th>4</th>\n",
       "      <td>4475369</td>\n",
       "    </tr>\n",
       "  </tbody>\n",
       "</table>\n",
       "</div>"
      ],
      "text/plain": [
       "   student_id\n",
       "0      581585\n",
       "1     5723133\n",
       "2     3276743\n",
       "3     4238589\n",
       "4     4475369"
      ]
     },
     "execution_count": 108,
     "metadata": {},
     "output_type": "execute_result"
    }
   ],
   "source": [
    "active_studs.head()"
   ]
  },
  {
   "cell_type": "code",
   "execution_count": 32,
   "metadata": {},
   "outputs": [
    {
     "name": "stdout",
     "output_type": "stream",
     "text": [
      "<class 'pandas.core.frame.DataFrame'>\n",
      "RangeIndex: 8341 entries, 0 to 8340\n",
      "Data columns (total 1 columns):\n",
      " #   Column      Non-Null Count  Dtype\n",
      "---  ------      --------------  -----\n",
      " 0   student_id  8341 non-null   int64\n",
      "dtypes: int64(1)\n",
      "memory usage: 65.3 KB\n"
     ]
    }
   ],
   "source": [
    "active_studs.info()"
   ]
  },
  {
   "cell_type": "code",
   "execution_count": 33,
   "metadata": {},
   "outputs": [
    {
     "name": "stdout",
     "output_type": "stream",
     "text": [
      "кол-во строк               = 8341\n",
      "кол-во уникальных значений = 8341\n",
      "все значения по столбцу id уникальны\n",
      "в данных отсутсвуют пустые значения\n"
     ]
    }
   ],
   "source": [
    "print(\"кол-во строк               =\", active_studs.shape[0])\n",
    "print(\"кол-во уникальных значений =\", active_studs.student_id.nunique())\n",
    "if active_studs.shape[0] == active_studs.student_id.nunique():\n",
    "     print(\"все значения по столбцу id уникальны\")\n",
    "else:\n",
    "        print(\"Ошибка: надо докрутить данные\")\n",
    "if np.any(active_studs.isna().values) == False:\n",
    "    print(\"в данных отсутсвуют пустые значения\")\n",
    "else:\n",
    "    print(\"Ошибка: надо докрутить данные\")"
   ]
  },
  {
   "cell_type": "code",
   "execution_count": 34,
   "metadata": {},
   "outputs": [
    {
     "data": {
      "text/html": [
       "<div>\n",
       "<style scoped>\n",
       "    .dataframe tbody tr th:only-of-type {\n",
       "        vertical-align: middle;\n",
       "    }\n",
       "\n",
       "    .dataframe tbody tr th {\n",
       "        vertical-align: top;\n",
       "    }\n",
       "\n",
       "    .dataframe thead th {\n",
       "        text-align: right;\n",
       "    }\n",
       "</style>\n",
       "<table border=\"1\" class=\"dataframe\">\n",
       "  <thead>\n",
       "    <tr style=\"text-align: right;\">\n",
       "      <th></th>\n",
       "      <th>student_id</th>\n",
       "      <th>rev</th>\n",
       "    </tr>\n",
       "  </thead>\n",
       "  <tbody>\n",
       "    <tr>\n",
       "      <th>0</th>\n",
       "      <td>1627</td>\n",
       "      <td>990.0</td>\n",
       "    </tr>\n",
       "    <tr>\n",
       "      <th>1</th>\n",
       "      <td>3185</td>\n",
       "      <td>690.0</td>\n",
       "    </tr>\n",
       "    <tr>\n",
       "      <th>2</th>\n",
       "      <td>25973</td>\n",
       "      <td>690.0</td>\n",
       "    </tr>\n",
       "    <tr>\n",
       "      <th>3</th>\n",
       "      <td>26280</td>\n",
       "      <td>690.0</td>\n",
       "    </tr>\n",
       "    <tr>\n",
       "      <th>4</th>\n",
       "      <td>100300</td>\n",
       "      <td>990.0</td>\n",
       "    </tr>\n",
       "  </tbody>\n",
       "</table>\n",
       "</div>"
      ],
      "text/plain": [
       "   student_id    rev\n",
       "0        1627  990.0\n",
       "1        3185  690.0\n",
       "2       25973  690.0\n",
       "3       26280  690.0\n",
       "4      100300  990.0"
      ]
     },
     "execution_count": 34,
     "metadata": {},
     "output_type": "execute_result"
    }
   ],
   "source": [
    "checks.head()"
   ]
  },
  {
   "cell_type": "code",
   "execution_count": 35,
   "metadata": {},
   "outputs": [
    {
     "name": "stdout",
     "output_type": "stream",
     "text": [
      "<class 'pandas.core.frame.DataFrame'>\n",
      "RangeIndex: 541 entries, 0 to 540\n",
      "Data columns (total 2 columns):\n",
      " #   Column      Non-Null Count  Dtype  \n",
      "---  ------      --------------  -----  \n",
      " 0   student_id  541 non-null    int64  \n",
      " 1   rev         541 non-null    float64\n",
      "dtypes: float64(1), int64(1)\n",
      "memory usage: 8.6 KB\n"
     ]
    }
   ],
   "source": [
    "checks.info()"
   ]
  },
  {
   "cell_type": "code",
   "execution_count": 36,
   "metadata": {},
   "outputs": [
    {
     "name": "stdout",
     "output_type": "stream",
     "text": [
      "кол-во строк               = 541\n",
      "кол-во уникальных значений = 541\n",
      "все значения по столбцу id уникальны\n",
      "в данных отсутсвуют пустые значения\n",
      "построим график распределения по колонке rev\n"
     ]
    },
    {
     "data": {
      "text/plain": [
       "<matplotlib.axes._subplots.AxesSubplot at 0x7ff41084e208>"
      ]
     },
     "execution_count": 36,
     "metadata": {},
     "output_type": "execute_result"
    },
    {
     "data": {
      "image/png": "[encoded data removed]",
      "text/plain": [
       "<Figure size 720x360 with 1 Axes>"
      ]
     },
     "metadata": {
      "needs_background": "light"
     },
     "output_type": "display_data"
    }
   ],
   "source": [
    "print(\"кол-во строк               =\", checks.shape[0])\n",
    "print(\"кол-во уникальных значений =\", checks.student_id.nunique())\n",
    "if checks.shape[0] == checks.student_id.nunique():\n",
    "     print(\"все значения по столбцу id уникальны\")\n",
    "else:\n",
    "        print(\"Ошибка: надо докрутить данные\")\n",
    "if np.any(checks.isna().values) == False:\n",
    "    print(\"в данных отсутсвуют пустые значения\")\n",
    "else:\n",
    "    print(\"Ошибка: надо докрутить данные\")\n",
    "x1 = checks.rev.value_counts()\n",
    "print(\"построим график распределения по колонке rev\")\n",
    "plt.figure(figsize=(10, 5))\n",
    "x1.plot.bar()"
   ]
  },
  {
   "cell_type": "markdown",
   "metadata": {},
   "source": [
    "\n",
    "проверим на баги, например есть ли пользователи которые оплатили, но являются неактивными пользователями"
   ]
  },
  {
   "cell_type": "code",
   "execution_count": 37,
   "metadata": {},
   "outputs": [],
   "source": [
    "group_activ=group.copy() #сделаем копию, чтобы не вносить изменения в данный дф\n",
    "group_activ['activ_id']=group_activ['id'].apply(lambda x: 1 if x in active_studs['student_id'].values else 0) #добавим колонку с флажками 1 и о с помощью лямбды активный/не активный пользователь"
   ]
  },
  {
   "cell_type": "code",
   "execution_count": 38,
   "metadata": {},
   "outputs": [],
   "source": [
    "checks = checks.rename(columns={'student_id':'id'}) #переименуем колонку для дальнейшего merge"
   ]
  },
  {
   "cell_type": "code",
   "execution_count": 39,
   "metadata": {},
   "outputs": [],
   "source": [
    "group_activ = group_activ.merge(checks, on='id', how='outer') # используем outer, так как он заполнит пропущенные значения NaN, если нет совпадения по ключу."
   ]
  },
  {
   "cell_type": "code",
   "execution_count": 40,
   "metadata": {},
   "outputs": [
    {
     "data": {
      "text/html": [
       "<div>\n",
       "<style scoped>\n",
       "    .dataframe tbody tr th:only-of-type {\n",
       "        vertical-align: middle;\n",
       "    }\n",
       "\n",
       "    .dataframe tbody tr th {\n",
       "        vertical-align: top;\n",
       "    }\n",
       "\n",
       "    .dataframe thead th {\n",
       "        text-align: right;\n",
       "    }\n",
       "</style>\n",
       "<table border=\"1\" class=\"dataframe\">\n",
       "  <thead>\n",
       "    <tr style=\"text-align: right;\">\n",
       "      <th></th>\n",
       "      <th>id</th>\n",
       "      <th>grp</th>\n",
       "      <th>activ_id</th>\n",
       "      <th>rev</th>\n",
       "    </tr>\n",
       "  </thead>\n",
       "  <tbody>\n",
       "    <tr>\n",
       "      <th>0</th>\n",
       "      <td>1489</td>\n",
       "      <td>B</td>\n",
       "      <td>0.0</td>\n",
       "      <td>NaN</td>\n",
       "    </tr>\n",
       "    <tr>\n",
       "      <th>1</th>\n",
       "      <td>1627</td>\n",
       "      <td>A</td>\n",
       "      <td>1.0</td>\n",
       "      <td>990.0</td>\n",
       "    </tr>\n",
       "    <tr>\n",
       "      <th>2</th>\n",
       "      <td>1768</td>\n",
       "      <td>B</td>\n",
       "      <td>0.0</td>\n",
       "      <td>NaN</td>\n",
       "    </tr>\n",
       "    <tr>\n",
       "      <th>3</th>\n",
       "      <td>1783</td>\n",
       "      <td>B</td>\n",
       "      <td>0.0</td>\n",
       "      <td>NaN</td>\n",
       "    </tr>\n",
       "    <tr>\n",
       "      <th>4</th>\n",
       "      <td>1794</td>\n",
       "      <td>A</td>\n",
       "      <td>0.0</td>\n",
       "      <td>NaN</td>\n",
       "    </tr>\n",
       "  </tbody>\n",
       "</table>\n",
       "</div>"
      ],
      "text/plain": [
       "     id grp  activ_id    rev\n",
       "0  1489   B       0.0    NaN\n",
       "1  1627   A       1.0  990.0\n",
       "2  1768   B       0.0    NaN\n",
       "3  1783   B       0.0    NaN\n",
       "4  1794   A       0.0    NaN"
      ]
     },
     "execution_count": 40,
     "metadata": {},
     "output_type": "execute_result"
    }
   ],
   "source": [
    "group_activ.head() # посмотри визуально на нашу таблицу"
   ]
  },
  {
   "cell_type": "code",
   "execution_count": 41,
   "metadata": {},
   "outputs": [
    {
     "data": {
      "text/plain": [
       "149"
      ]
     },
     "execution_count": 41,
     "metadata": {},
     "output_type": "execute_result"
    }
   ],
   "source": [
    "group_activ.query('activ_id==0').rev.count() #считаем сколько у нас пользователей, которые совершили покупку, но не заходили во время дней теста"
   ]
  },
  {
   "cell_type": "markdown",
   "metadata": {},
   "source": [
    "\n",
    "Из полученных данных, можно сделать предположение: возможно что это автоматические подписки, которые оплачиваются автоматом у пользователя, либо была задержка по оплате. Точная механики нам неизвестна. НО данных пользователей мы учитывать для a/b тестов не будемБ так как нам нужны только активные для стат значимых результатов.\n",
    "    \n",
    "**ПОЭТОМУ ВОЗВРЩАЕМСЯ В РАННЕМУ РЕШЕНИЮ ЗАДАЧИ**\n"
   ]
  },
  {
   "cell_type": "markdown",
   "metadata": {},
   "source": [
    "Следующим этапом мы должны собрать данные, востроить гипотезы, выбрать тесты и сделать статистические выводы.\n",
    "\n",
    "При сборке данных будем пользоваться тремя дф (group, active_studs, checks). На данном этапе мы не будем брать дф groups_add, так как файл прислали после двух дней других(его рассмотрим чуть позже)"
   ]
  },
  {
   "cell_type": "code",
   "execution_count": 42,
   "metadata": {},
   "outputs": [],
   "source": [
    "#создадим из данного файла список, чтобы потом к нему обратиться и найти в файле group, только тех юзеров, которые заходили во время теста\n",
    "student_id = active_studs.student_id.to_list()"
   ]
  },
  {
   "cell_type": "code",
   "execution_count": 43,
   "metadata": {},
   "outputs": [
    {
     "data": {
      "text/html": [
       "<div>\n",
       "<style scoped>\n",
       "    .dataframe tbody tr th:only-of-type {\n",
       "        vertical-align: middle;\n",
       "    }\n",
       "\n",
       "    .dataframe tbody tr th {\n",
       "        vertical-align: top;\n",
       "    }\n",
       "\n",
       "    .dataframe thead th {\n",
       "        text-align: right;\n",
       "    }\n",
       "</style>\n",
       "<table border=\"1\" class=\"dataframe\">\n",
       "  <thead>\n",
       "    <tr style=\"text-align: right;\">\n",
       "      <th></th>\n",
       "      <th>id</th>\n",
       "      <th>grp</th>\n",
       "    </tr>\n",
       "  </thead>\n",
       "  <tbody>\n",
       "    <tr>\n",
       "      <th>1</th>\n",
       "      <td>1627</td>\n",
       "      <td>A</td>\n",
       "    </tr>\n",
       "    <tr>\n",
       "      <th>10</th>\n",
       "      <td>2085</td>\n",
       "      <td>B</td>\n",
       "    </tr>\n",
       "    <tr>\n",
       "      <th>12</th>\n",
       "      <td>2215</td>\n",
       "      <td>B</td>\n",
       "    </tr>\n",
       "    <tr>\n",
       "      <th>43</th>\n",
       "      <td>3391</td>\n",
       "      <td>A</td>\n",
       "    </tr>\n",
       "    <tr>\n",
       "      <th>45</th>\n",
       "      <td>3401</td>\n",
       "      <td>B</td>\n",
       "    </tr>\n",
       "  </tbody>\n",
       "</table>\n",
       "</div>"
      ],
      "text/plain": [
       "      id grp\n",
       "1   1627   A\n",
       "10  2085   B\n",
       "12  2215   B\n",
       "43  3391   A\n",
       "45  3401   B"
      ]
     },
     "execution_count": 43,
     "metadata": {},
     "output_type": "execute_result"
    }
   ],
   "source": [
    "#обращаемся к нашему созданному листу и перезаписываем в новую переменную, делал merge, данные получились такими же(этот метод выглядит поприятней)\n",
    "active_group = group.query('id in @student_id')\n",
    "active_group.head()"
   ]
  },
  {
   "cell_type": "code",
   "execution_count": 44,
   "metadata": {},
   "outputs": [],
   "source": [
    "#теперь с помощью merge добавим колонку rev по юзерам, но для начала переименуем колонку в файле checks\n",
    "checks = checks.rename(columns={'student_id':'id'})"
   ]
  },
  {
   "cell_type": "code",
   "execution_count": 45,
   "metadata": {},
   "outputs": [
    {
     "data": {
      "text/html": [
       "<div>\n",
       "<style scoped>\n",
       "    .dataframe tbody tr th:only-of-type {\n",
       "        vertical-align: middle;\n",
       "    }\n",
       "\n",
       "    .dataframe tbody tr th {\n",
       "        vertical-align: top;\n",
       "    }\n",
       "\n",
       "    .dataframe thead th {\n",
       "        text-align: right;\n",
       "    }\n",
       "</style>\n",
       "<table border=\"1\" class=\"dataframe\">\n",
       "  <thead>\n",
       "    <tr style=\"text-align: right;\">\n",
       "      <th></th>\n",
       "      <th>id</th>\n",
       "      <th>grp</th>\n",
       "      <th>rev</th>\n",
       "    </tr>\n",
       "  </thead>\n",
       "  <tbody>\n",
       "    <tr>\n",
       "      <th>0</th>\n",
       "      <td>1627</td>\n",
       "      <td>A</td>\n",
       "      <td>990.0</td>\n",
       "    </tr>\n",
       "    <tr>\n",
       "      <th>1</th>\n",
       "      <td>2085</td>\n",
       "      <td>B</td>\n",
       "      <td>NaN</td>\n",
       "    </tr>\n",
       "    <tr>\n",
       "      <th>2</th>\n",
       "      <td>2215</td>\n",
       "      <td>B</td>\n",
       "      <td>NaN</td>\n",
       "    </tr>\n",
       "    <tr>\n",
       "      <th>3</th>\n",
       "      <td>3391</td>\n",
       "      <td>A</td>\n",
       "      <td>NaN</td>\n",
       "    </tr>\n",
       "    <tr>\n",
       "      <th>4</th>\n",
       "      <td>3401</td>\n",
       "      <td>B</td>\n",
       "      <td>NaN</td>\n",
       "    </tr>\n",
       "  </tbody>\n",
       "</table>\n",
       "</div>"
      ],
      "text/plain": [
       "     id grp    rev\n",
       "0  1627   A  990.0\n",
       "1  2085   B    NaN\n",
       "2  2215   B    NaN\n",
       "3  3391   A    NaN\n",
       "4  3401   B    NaN"
      ]
     },
     "execution_count": 45,
     "metadata": {},
     "output_type": "execute_result"
    }
   ],
   "source": [
    "#ПОЖЕНИЛИ-отсылочка к Беслану\n",
    "active_group = active_group.merge(checks, on='id', how='left')\n",
    "active_group.head()\n",
    "#видим,что в данных есть пустые значеия, скорее всего это связано с тем что пользователи заходили, но не производили оплат. \n",
    "#удалять данные с пустыми значениями нельзя, так как это может повлиять на наши выводы. \n",
    "#поэтому преобразуем NaN в 0."
   ]
  },
  {
   "cell_type": "code",
   "execution_count": 46,
   "metadata": {},
   "outputs": [],
   "source": [
    "#используем fillna и преобразуем пустые значения в NaN\n",
    "active_group['rev']=active_group.rev.fillna(0)"
   ]
  },
  {
   "cell_type": "code",
   "execution_count": 47,
   "metadata": {},
   "outputs": [
    {
     "data": {
      "text/html": [
       "<div>\n",
       "<style scoped>\n",
       "    .dataframe tbody tr th:only-of-type {\n",
       "        vertical-align: middle;\n",
       "    }\n",
       "\n",
       "    .dataframe tbody tr th {\n",
       "        vertical-align: top;\n",
       "    }\n",
       "\n",
       "    .dataframe thead th {\n",
       "        text-align: right;\n",
       "    }\n",
       "</style>\n",
       "<table border=\"1\" class=\"dataframe\">\n",
       "  <thead>\n",
       "    <tr style=\"text-align: right;\">\n",
       "      <th></th>\n",
       "      <th>id</th>\n",
       "      <th>grp</th>\n",
       "      <th>rev</th>\n",
       "    </tr>\n",
       "  </thead>\n",
       "  <tbody>\n",
       "    <tr>\n",
       "      <th>0</th>\n",
       "      <td>1627</td>\n",
       "      <td>A</td>\n",
       "      <td>990.0</td>\n",
       "    </tr>\n",
       "    <tr>\n",
       "      <th>1</th>\n",
       "      <td>2085</td>\n",
       "      <td>B</td>\n",
       "      <td>0.0</td>\n",
       "    </tr>\n",
       "    <tr>\n",
       "      <th>2</th>\n",
       "      <td>2215</td>\n",
       "      <td>B</td>\n",
       "      <td>0.0</td>\n",
       "    </tr>\n",
       "    <tr>\n",
       "      <th>3</th>\n",
       "      <td>3391</td>\n",
       "      <td>A</td>\n",
       "      <td>0.0</td>\n",
       "    </tr>\n",
       "    <tr>\n",
       "      <th>4</th>\n",
       "      <td>3401</td>\n",
       "      <td>B</td>\n",
       "      <td>0.0</td>\n",
       "    </tr>\n",
       "  </tbody>\n",
       "</table>\n",
       "</div>"
      ],
      "text/plain": [
       "     id grp    rev\n",
       "0  1627   A  990.0\n",
       "1  2085   B    0.0\n",
       "2  2215   B    0.0\n",
       "3  3391   A    0.0\n",
       "4  3401   B    0.0"
      ]
     },
     "execution_count": 47,
     "metadata": {},
     "output_type": "execute_result"
    }
   ],
   "source": [
    "active_group.head()"
   ]
  },
  {
   "cell_type": "code",
   "execution_count": 48,
   "metadata": {},
   "outputs": [
    {
     "data": {
      "text/plain": [
       "True"
      ]
     },
     "execution_count": 48,
     "metadata": {},
     "output_type": "execute_result"
    }
   ],
   "source": [
    "#проверим собранные данные на дупликаты\n",
    "active_group.id.count()==active_group.id.nunique()"
   ]
  },
  {
   "cell_type": "code",
   "execution_count": 49,
   "metadata": {},
   "outputs": [
    {
     "data": {
      "text/html": [
       "<div>\n",
       "<style scoped>\n",
       "    .dataframe tbody tr th:only-of-type {\n",
       "        vertical-align: middle;\n",
       "    }\n",
       "\n",
       "    .dataframe tbody tr th {\n",
       "        vertical-align: top;\n",
       "    }\n",
       "\n",
       "    .dataframe thead th {\n",
       "        text-align: right;\n",
       "    }\n",
       "</style>\n",
       "<table border=\"1\" class=\"dataframe\">\n",
       "  <thead>\n",
       "    <tr style=\"text-align: right;\">\n",
       "      <th></th>\n",
       "      <th>id</th>\n",
       "      <th>grp</th>\n",
       "      <th>rev</th>\n",
       "    </tr>\n",
       "  </thead>\n",
       "  <tbody>\n",
       "    <tr>\n",
       "      <th>0</th>\n",
       "      <td>1627</td>\n",
       "      <td>A</td>\n",
       "      <td>990.0</td>\n",
       "    </tr>\n",
       "    <tr>\n",
       "      <th>3</th>\n",
       "      <td>3391</td>\n",
       "      <td>A</td>\n",
       "      <td>0.0</td>\n",
       "    </tr>\n",
       "    <tr>\n",
       "      <th>13</th>\n",
       "      <td>109623</td>\n",
       "      <td>A</td>\n",
       "      <td>0.0</td>\n",
       "    </tr>\n",
       "    <tr>\n",
       "      <th>15</th>\n",
       "      <td>133678</td>\n",
       "      <td>A</td>\n",
       "      <td>0.0</td>\n",
       "    </tr>\n",
       "    <tr>\n",
       "      <th>23</th>\n",
       "      <td>175944</td>\n",
       "      <td>A</td>\n",
       "      <td>0.0</td>\n",
       "    </tr>\n",
       "  </tbody>\n",
       "</table>\n",
       "</div>"
      ],
      "text/plain": [
       "        id grp    rev\n",
       "0     1627   A  990.0\n",
       "3     3391   A    0.0\n",
       "13  109623   A    0.0\n",
       "15  133678   A    0.0\n",
       "23  175944   A    0.0"
      ]
     },
     "execution_count": 49,
     "metadata": {},
     "output_type": "execute_result"
    }
   ],
   "source": [
    "#отбереем юзеров из группы А\n",
    "active_group_a = active_group.query('grp == \"A\"')\n",
    "active_group_a.head()"
   ]
  },
  {
   "cell_type": "code",
   "execution_count": 50,
   "metadata": {},
   "outputs": [
    {
     "data": {
      "text/html": [
       "<div>\n",
       "<style scoped>\n",
       "    .dataframe tbody tr th:only-of-type {\n",
       "        vertical-align: middle;\n",
       "    }\n",
       "\n",
       "    .dataframe tbody tr th {\n",
       "        vertical-align: top;\n",
       "    }\n",
       "\n",
       "    .dataframe thead th {\n",
       "        text-align: right;\n",
       "    }\n",
       "</style>\n",
       "<table border=\"1\" class=\"dataframe\">\n",
       "  <thead>\n",
       "    <tr style=\"text-align: right;\">\n",
       "      <th></th>\n",
       "      <th>id</th>\n",
       "      <th>grp</th>\n",
       "      <th>rev</th>\n",
       "    </tr>\n",
       "  </thead>\n",
       "  <tbody>\n",
       "    <tr>\n",
       "      <th>1</th>\n",
       "      <td>2085</td>\n",
       "      <td>B</td>\n",
       "      <td>0.0</td>\n",
       "    </tr>\n",
       "    <tr>\n",
       "      <th>2</th>\n",
       "      <td>2215</td>\n",
       "      <td>B</td>\n",
       "      <td>0.0</td>\n",
       "    </tr>\n",
       "    <tr>\n",
       "      <th>4</th>\n",
       "      <td>3401</td>\n",
       "      <td>B</td>\n",
       "      <td>0.0</td>\n",
       "    </tr>\n",
       "    <tr>\n",
       "      <th>5</th>\n",
       "      <td>22994</td>\n",
       "      <td>B</td>\n",
       "      <td>0.0</td>\n",
       "    </tr>\n",
       "    <tr>\n",
       "      <th>6</th>\n",
       "      <td>26899</td>\n",
       "      <td>B</td>\n",
       "      <td>0.0</td>\n",
       "    </tr>\n",
       "  </tbody>\n",
       "</table>\n",
       "</div>"
      ],
      "text/plain": [
       "      id grp  rev\n",
       "1   2085   B  0.0\n",
       "2   2215   B  0.0\n",
       "4   3401   B  0.0\n",
       "5  22994   B  0.0\n",
       "6  26899   B  0.0"
      ]
     },
     "execution_count": 50,
     "metadata": {},
     "output_type": "execute_result"
    }
   ],
   "source": [
    "#отбереем юзеров из группы B\n",
    "active_group_b = active_group.query('grp == \"B\"')\n",
    "active_group_b.head()"
   ]
  },
  {
   "cell_type": "code",
   "execution_count": 51,
   "metadata": {},
   "outputs": [
    {
     "data": {
      "text/plain": [
       "count    1535.000000\n",
       "mean       47.439739\n",
       "std       290.766992\n",
       "min         0.000000\n",
       "25%         0.000000\n",
       "50%         0.000000\n",
       "75%         0.000000\n",
       "max      3660.000000\n",
       "Name: rev, dtype: float64"
      ]
     },
     "execution_count": 51,
     "metadata": {},
     "output_type": "execute_result"
    }
   ],
   "source": [
    "#используем для получения описательной статистики для данных в группе A\n",
    "active_group_a.rev.describe()"
   ]
  },
  {
   "cell_type": "code",
   "execution_count": 52,
   "metadata": {},
   "outputs": [
    {
     "data": {
      "text/plain": [
       "count    6793.000000\n",
       "mean       57.864567\n",
       "std       313.197487\n",
       "min         0.000000\n",
       "25%         0.000000\n",
       "50%         0.000000\n",
       "75%         0.000000\n",
       "max      4650.000000\n",
       "Name: rev, dtype: float64"
      ]
     },
     "execution_count": 52,
     "metadata": {},
     "output_type": "execute_result"
    }
   ],
   "source": [
    "#используем для получения описательной статистики для данных в группе В\n",
    "active_group_b.rev.describe()"
   ]
  },
  {
   "cell_type": "markdown",
   "metadata": {},
   "source": [
    "Исходя из полученных данных мы видим, что в данных по группам есть значения по колонке rev с нулями. Посчитаем какой процент в каждой группе составляют нулевые значения."
   ]
  },
  {
   "cell_type": "code",
   "execution_count": 53,
   "metadata": {},
   "outputs": [
    {
     "name": "stdout",
     "output_type": "stream",
     "text": [
      "процентное содерержание 0 в группе A = 94.92\n",
      "процентное содерержание 0 в группе A = 95.39\n"
     ]
    }
   ],
   "source": [
    "print('процентное содерержание 0 в группе A =', round(active_group_a.query('rev == 0').id.count()/active_group_a.id.count() * 100, 2))\n",
    "print('процентное содерержание 0 в группе A =', round(active_group_b.query('rev == 0').id.count()/active_group_b.id.count() * 100, 2))"
   ]
  },
  {
   "cell_type": "markdown",
   "metadata": {},
   "source": [
    "Поссмотрим на размеры групп, средний чек и конверсию в наших данных. \n",
    "\n",
    "Пропишем функию, которая вернет 1, если пользователь совершил покупку, иначе 0"
   ]
  },
  {
   "cell_type": "code",
   "execution_count": 54,
   "metadata": {},
   "outputs": [],
   "source": [
    "#наша функция\n",
    "def active_user(x):\n",
    "    if x > 0:\n",
    "        return 1\n",
    "    else:\n",
    "        return 0"
   ]
  },
  {
   "cell_type": "code",
   "execution_count": 55,
   "metadata": {},
   "outputs": [],
   "source": [
    "#создаем колонку\n",
    "active_group['active_id'] = active_group.rev.apply(active_user)"
   ]
  },
  {
   "cell_type": "code",
   "execution_count": 56,
   "metadata": {},
   "outputs": [
    {
     "data": {
      "text/html": [
       "<div>\n",
       "<style scoped>\n",
       "    .dataframe tbody tr th:only-of-type {\n",
       "        vertical-align: middle;\n",
       "    }\n",
       "\n",
       "    .dataframe tbody tr th {\n",
       "        vertical-align: top;\n",
       "    }\n",
       "\n",
       "    .dataframe thead th {\n",
       "        text-align: right;\n",
       "    }\n",
       "</style>\n",
       "<table border=\"1\" class=\"dataframe\">\n",
       "  <thead>\n",
       "    <tr style=\"text-align: right;\">\n",
       "      <th></th>\n",
       "      <th>id</th>\n",
       "      <th>grp</th>\n",
       "      <th>rev</th>\n",
       "      <th>active_id</th>\n",
       "    </tr>\n",
       "  </thead>\n",
       "  <tbody>\n",
       "    <tr>\n",
       "      <th>0</th>\n",
       "      <td>1627</td>\n",
       "      <td>A</td>\n",
       "      <td>990.0</td>\n",
       "      <td>1</td>\n",
       "    </tr>\n",
       "    <tr>\n",
       "      <th>1</th>\n",
       "      <td>2085</td>\n",
       "      <td>B</td>\n",
       "      <td>0.0</td>\n",
       "      <td>0</td>\n",
       "    </tr>\n",
       "    <tr>\n",
       "      <th>2</th>\n",
       "      <td>2215</td>\n",
       "      <td>B</td>\n",
       "      <td>0.0</td>\n",
       "      <td>0</td>\n",
       "    </tr>\n",
       "    <tr>\n",
       "      <th>3</th>\n",
       "      <td>3391</td>\n",
       "      <td>A</td>\n",
       "      <td>0.0</td>\n",
       "      <td>0</td>\n",
       "    </tr>\n",
       "    <tr>\n",
       "      <th>4</th>\n",
       "      <td>3401</td>\n",
       "      <td>B</td>\n",
       "      <td>0.0</td>\n",
       "      <td>0</td>\n",
       "    </tr>\n",
       "  </tbody>\n",
       "</table>\n",
       "</div>"
      ],
      "text/plain": [
       "     id grp    rev  active_id\n",
       "0  1627   A  990.0          1\n",
       "1  2085   B    0.0          0\n",
       "2  2215   B    0.0          0\n",
       "3  3391   A    0.0          0\n",
       "4  3401   B    0.0          0"
      ]
     },
     "execution_count": 56,
     "metadata": {},
     "output_type": "execute_result"
    }
   ],
   "source": [
    "active_group.head()"
   ]
  },
  {
   "cell_type": "code",
   "execution_count": 57,
   "metadata": {},
   "outputs": [],
   "source": [
    "#посчитаем конверсию и создадим дополнительную колонку\n",
    "con_group = active_group.groupby(['grp'], as_index=False)\\\n",
    "    .agg({'rev':'mean','active_id':'sum', 'id':'count'})\\\n",
    "    .rename(columns={'rev':'avg_rev', 'active_id':'count_active','id':'count_id'})\n",
    "con_group['conversion']=con_group.count_active/con_group.count_id*100"
   ]
  },
  {
   "cell_type": "code",
   "execution_count": 58,
   "metadata": {},
   "outputs": [
    {
     "data": {
      "text/html": [
       "<div>\n",
       "<style scoped>\n",
       "    .dataframe tbody tr th:only-of-type {\n",
       "        vertical-align: middle;\n",
       "    }\n",
       "\n",
       "    .dataframe tbody tr th {\n",
       "        vertical-align: top;\n",
       "    }\n",
       "\n",
       "    .dataframe thead th {\n",
       "        text-align: right;\n",
       "    }\n",
       "</style>\n",
       "<table border=\"1\" class=\"dataframe\">\n",
       "  <thead>\n",
       "    <tr style=\"text-align: right;\">\n",
       "      <th></th>\n",
       "      <th>grp</th>\n",
       "      <th>avg_rev</th>\n",
       "      <th>count_active</th>\n",
       "      <th>count_id</th>\n",
       "      <th>conversion</th>\n",
       "    </tr>\n",
       "  </thead>\n",
       "  <tbody>\n",
       "    <tr>\n",
       "      <th>0</th>\n",
       "      <td>A</td>\n",
       "      <td>47.439739</td>\n",
       "      <td>78</td>\n",
       "      <td>1535</td>\n",
       "      <td>5.081433</td>\n",
       "    </tr>\n",
       "    <tr>\n",
       "      <th>1</th>\n",
       "      <td>B</td>\n",
       "      <td>57.864567</td>\n",
       "      <td>313</td>\n",
       "      <td>6793</td>\n",
       "      <td>4.607684</td>\n",
       "    </tr>\n",
       "  </tbody>\n",
       "</table>\n",
       "</div>"
      ],
      "text/plain": [
       "  grp    avg_rev  count_active  count_id  conversion\n",
       "0   A  47.439739            78      1535    5.081433\n",
       "1   B  57.864567           313      6793    4.607684"
      ]
     },
     "execution_count": 58,
     "metadata": {},
     "output_type": "execute_result"
    }
   ],
   "source": [
    "con_group.head()"
   ]
  },
  {
   "cell_type": "raw",
   "metadata": {},
   "source": [
    "Исходя из полученных данных можно выбрать два варианта событий:\n",
    "\n",
    "1 провести тесты с нулевыми значениями по колонке rev\n",
    "2 провести тесты без нулевых значений по колонке rev\n",
    "\n",
    "Но перед этим постороим графики распределений, проведем тесты на нормальность, посмотрим на диспрерсию. \n",
    "\n",
    "Исходя из этого выберем нужый нам тест."
   ]
  },
  {
   "cell_type": "code",
   "execution_count": 59,
   "metadata": {},
   "outputs": [],
   "source": [
    "#сделаем дф, где будут данные с нулевыми значениями по группе А\n",
    "group_a = active_group.query('grp == \"A\"')"
   ]
  },
  {
   "cell_type": "code",
   "execution_count": 60,
   "metadata": {},
   "outputs": [],
   "source": [
    "#сделаем дф, где будут данные ,tp нулевых значений по группе А\n",
    "group_a_nozero = active_group.query('grp == \"A\" and rev>0')"
   ]
  },
  {
   "cell_type": "code",
   "execution_count": 61,
   "metadata": {},
   "outputs": [],
   "source": [
    "#сделаем дф, где будут данные с нулевыми значениями по группе B\n",
    "group_b = active_group.query('grp == \"B\"')"
   ]
  },
  {
   "cell_type": "code",
   "execution_count": 62,
   "metadata": {},
   "outputs": [],
   "source": [
    "#сделаем дф, где будут данные ,без нулевых значений по группе B\n",
    "group_b_nozero = active_group.query('grp == \"B\" and rev>0')"
   ]
  },
  {
   "cell_type": "code",
   "execution_count": 63,
   "metadata": {},
   "outputs": [
    {
     "data": {
      "image/png": "[encoded data removed]",
      "text/plain": [
       "<Figure size 720x360 with 1 Axes>"
      ]
     },
     "metadata": {
      "needs_background": "light"
     },
     "output_type": "display_data"
    }
   ],
   "source": [
    "#построим график распределния по группам по всем пользователям с нулевыми значениями в rev\n",
    "plt.figure(figsize=(10,5))\n",
    "sns.boxplot(x='grp', y='rev', data=active_group)\n",
    "plt.xlabel('Groups')\n",
    "plt.ylabel('Revenue')\n",
    "plt.show()"
   ]
  },
  {
   "cell_type": "code",
   "execution_count": 64,
   "metadata": {},
   "outputs": [
    {
     "data": {
      "image/png": "[encoded data removed]",
      "text/plain": [
       "<Figure size 720x360 with 1 Axes>"
      ]
     },
     "metadata": {
      "needs_background": "light"
     },
     "output_type": "display_data"
    }
   ],
   "source": [
    "#построим график распределния по группам по всем пользователям без нулевых значений в rev\n",
    "plt.figure(figsize=(10,5))\n",
    "sns.boxplot(x='grp', y='rev', data=active_group.query('rev>0'))\n",
    "plt.xlabel('Groups')\n",
    "plt.ylabel('Revenue')\n",
    "plt.show()"
   ]
  },
  {
   "cell_type": "markdown",
   "metadata": {},
   "source": [
    "Исходя из графиков, вдно, что есть значительные выбросы и можно предположить, что распределение будет ненормальным. И воспользоваться t-тестом не уместно. Но проведем еще пару анализов."
   ]
  },
  {
   "cell_type": "code",
   "execution_count": 65,
   "metadata": {},
   "outputs": [
    {
     "data": {
      "text/plain": [
       "<seaborn.axisgrid.FacetGrid at 0x7ff410e260f0>"
      ]
     },
     "execution_count": 65,
     "metadata": {},
     "output_type": "execute_result"
    },
    {
     "data": {
      "image/png": "[encoded data removed]",
      "text/plain": [
       "<Figure size 354.54x307.44 with 1 Axes>"
      ]
     },
     "metadata": {},
     "output_type": "display_data"
    }
   ],
   "source": [
    "df_gist = active_group.query('rev > 0').groupby(['rev','grp'], as_index=False).id.count().rename(columns={'id': 'count_users'})\n",
    "sns.set(rc={'figure.figsize':(15,15)})\n",
    "sns.relplot(\n",
    "    data=df_gist, kind=\"line\",\n",
    "    x=\"rev\", y=\"count_users\",\n",
    "    hue=\"grp\", height=4.27)"
   ]
  },
  {
   "cell_type": "markdown",
   "metadata": {},
   "source": [
    "Из графиков выше, видно увеличение покупок чуть меньше 2000 и всплеск около 1000, что скорее всего и привело к возможному увеличению среднего в группе В. \n",
    "\n",
    "Так же можно заметить еще одно подтверждение того, что распрделение ненормальное.\n",
    "Проведем тесты на нормальность и закрепим наше утверждение."
   ]
  },
  {
   "cell_type": "code",
   "execution_count": 66,
   "metadata": {},
   "outputs": [
    {
     "name": "stdout",
     "output_type": "stream",
     "text": [
      "NormaltestResult(statistic=2235.0038926868115, pvalue=0.0)\n",
      "NormaltestResult(statistic=7799.5839920248845, pvalue=0.0)\n"
     ]
    }
   ],
   "source": [
    "#у двух выборо p-valeu=0, следовательно распределения ненормальные (где rev с нулевыми значениями)\n",
    "print(ss.normaltest(group_a.rev))\n",
    "print(ss.normaltest(group_b.rev))"
   ]
  },
  {
   "cell_type": "code",
   "execution_count": 67,
   "metadata": {},
   "outputs": [
    {
     "name": "stdout",
     "output_type": "stream",
     "text": [
      "NormaltestResult(statistic=30.378419638487475, pvalue=2.5316868804220266e-07)\n",
      "NormaltestResult(statistic=7.022269699078301, pvalue=0.029863005181946005)\n"
     ]
    }
   ],
   "source": [
    "#у двух выборо p-valeu<0,05, следовательно распределения ненормальные (где rev без нулевых значений)\n",
    "print(ss.normaltest(group_a_nozero.rev))\n",
    "print(ss.normaltest(group_b_nozero.rev))"
   ]
  },
  {
   "cell_type": "code",
   "execution_count": 68,
   "metadata": {},
   "outputs": [
    {
     "name": "stdout",
     "output_type": "stream",
     "text": [
      "С нулевыми значениями. p-value = 0.013129800854584504\n",
      "Без нулевых значений. p-value = 0.5524868375224445\n"
     ]
    }
   ],
   "source": [
    "# Проверяю различия в дисперсиях\n",
    "# Pvalue < 0.05. Принимаю гипотезу о различии дисперсий у групп с нулевыми значениями\n",
    "print('С нулевыми значениями. p-value =', ss.levene(group_a.rev, group_b.rev, center='mean')[1])\n",
    "# Pvalue > 0.05. Не могу принять гипотезу о различии дисперсий у групп без нулевых значений\n",
    "print('Без нулевых значений. p-value =', ss.levene(group_a_nozero.rev, group_b_nozero.rev, center='mean')[1])"
   ]
  },
  {
   "cell_type": "markdown",
   "metadata": {},
   "source": [
    "\n",
    "Сделаем выводы по собранным данным с нулевыми значениями rev:\n",
    "1 Обе выборки ненормального распределения\n",
    "2 Дисперсии отличаются\n",
    "3 Имеются явные выбросы, что показано на графиках\n",
    "4 В группах большую часть составляют нулевые значения\n",
    "\n",
    "Выводы по собранным данным без нулевых значений rev:\n",
    "1 Обе выборки так же ненормального распределения\n",
    "2 Дисперсии стат. значимо не различаются\n",
    "3 Имеются явные выбросы, что показано на графиках\n",
    "\n",
    "Опираясь наполученные данные можем выбрать нужный нам тест. Им станет bootstrap. U критерий не будем брать, так как результаты теста Манна Уитни сложно интерпретировать."
   ]
  },
  {
   "cell_type": "code",
   "execution_count": 69,
   "metadata": {},
   "outputs": [],
   "source": [
    "# Объявим функцию, которая позволит проверять гипотезы с помощью бутстрапа\n",
    "def get_bootstrap(\n",
    "    data_column_1, # числовые значения первой выборки\n",
    "    data_column_2, # числовые значения второй выборки\n",
    "    boot_it = 10000, # количество бутстрэп-подвыборок\n",
    "    statistic = np.mean, # интересующая нас статистика\n",
    "    bootstrap_conf_level = 0.95 # уровень значимости\n",
    "):\n",
    "    boot_data = []\n",
    "    for i in tqdm(range(boot_it)): # извлекаем подвыборки\n",
    "        samples_1 = data_column_1.sample(\n",
    "            len(data_column_1), \n",
    "            replace = True # параметр возвращения\n",
    "        ).values\n",
    "        \n",
    "        samples_2 = data_column_2.sample(\n",
    "            len(data_column_1), \n",
    "            replace = True\n",
    "        ).values\n",
    "        \n",
    "        boot_data.append(statistic(samples_1)-statistic(samples_2)) # mean() - применяем статистику\n",
    "        \n",
    "    pd_boot_data = pd.DataFrame(boot_data)\n",
    "        \n",
    "    left_quant = (1 - bootstrap_conf_level)/2\n",
    "    right_quant = 1 - (1 - bootstrap_conf_level) / 2\n",
    "    quants = pd_boot_data.quantile([left_quant, right_quant])\n",
    "        \n",
    "    p_1 = norm.cdf(\n",
    "        x = 0, \n",
    "        loc = np.mean(boot_data), \n",
    "        scale = np.std(boot_data)\n",
    "    )\n",
    "    p_2 = norm.cdf(\n",
    "        x = 0, \n",
    "        loc = -np.mean(boot_data), \n",
    "        scale = np.std(boot_data)\n",
    "    )\n",
    "    p_value = min(p_1, p_2) * 2\n",
    "        \n",
    "    # Визуализация\n",
    "#     _, _, bars = plt.hist(pd_boot_data[0], bins = 50)\n",
    "#     for bar in bars:\n",
    "#         if bar.get_x() <= quants.iloc[0][0] or bar.get_x() >= quants.iloc[1][0]:\n",
    "#             bar.set_facecolor('red')\n",
    "#         else: \n",
    "#             bar.set_facecolor('grey')\n",
    "#             bar.set_edgecolor('black')\n",
    "    \n",
    "#     plt.style.use('ggplot')\n",
    "#     plt.vlines(quants,ymin=0,ymax=50,linestyle='--')\n",
    "#     plt.xlabel('boot_data')\n",
    "#     plt.ylabel('frequency')\n",
    "#     plt.title(\"Histogram of boot_data\")\n",
    "#     plt.show()\n",
    "       \n",
    "    return {\"boot_data\": boot_data, \n",
    "            \"quants\": quants, \n",
    "            \"p_value\": p_value}"
   ]
  },
  {
   "cell_type": "markdown",
   "metadata": {},
   "source": [
    "bootstrap СR - конверсия в покупку\n",
    "\n",
    "**гипотезы:**\n",
    "\n",
    "H0 - CR в двух группах не изменился\n",
    "\n",
    "H1 - CR в двух группах изменился"
   ]
  },
  {
   "cell_type": "code",
   "execution_count": 70,
   "metadata": {},
   "outputs": [
    {
     "data": {
      "application/vnd.jupyter.widget-view+json": {
       "model_id": "1d35cd17bfac4764bcfc5364bfd189d9",
       "version_major": 2,
       "version_minor": 0
      },
      "text/plain": [
       "HBox(children=(FloatProgress(value=0.0, max=10000.0), HTML(value='')))"
      ]
     },
     "metadata": {},
     "output_type": "display_data"
    },
    {
     "name": "stdout",
     "output_type": "stream",
     "text": [
      "\n"
     ]
    },
    {
     "data": {
      "text/plain": [
       "0.34597371988427617"
      ]
     },
     "execution_count": 70,
     "metadata": {},
     "output_type": "execute_result"
    }
   ],
   "source": [
    "#bootstrap для группы с нулевыми значенями\n",
    "#принимаем нулевую гипотезу, так как p-value значительно > 0,05\n",
    "booted_data = get_bootstrap(group_a['rev'], group_b['rev']) \n",
    "booted_data[\"p_value\"]"
   ]
  },
  {
   "cell_type": "markdown",
   "metadata": {},
   "source": [
    "Посмотрим еще на один показатель ARPPU - cредний доход с платящего пользователя.\n",
    "\n",
    "**гипотизы:**\n",
    "\n",
    "H0 - ARPPU в двух групах не изменилось\n",
    "\n",
    "H1 - ARPPU в двух групах изменилось"
   ]
  },
  {
   "cell_type": "code",
   "execution_count": 111,
   "metadata": {},
   "outputs": [
    {
     "data": {
      "application/vnd.jupyter.widget-view+json": {
       "model_id": "31cc2d1239d04d3581afc92b5a4b534e",
       "version_major": 2,
       "version_minor": 0
      },
      "text/plain": [
       "HBox(children=(FloatProgress(value=0.0, max=10000.0), HTML(value='')))"
      ]
     },
     "metadata": {},
     "output_type": "display_data"
    },
    {
     "name": "stdout",
     "output_type": "stream",
     "text": [
      "\n"
     ]
    },
    {
     "data": {
      "text/plain": [
       "0.01833785902864769"
      ]
     },
     "execution_count": 111,
     "metadata": {},
     "output_type": "execute_result"
    }
   ],
   "source": [
    "#bootstrap для ARPPU\n",
    "#принимаем альтернативную гипотезу так как, p-value < 0,05\n",
    "booted_data = get_bootstrap(group_a_nozero['rev'], group_b_nozero['rev']) \n",
    "booted_data[\"p_value\"]"
   ]
  },
  {
   "cell_type": "markdown",
   "metadata": {},
   "source": [
    "Вывод: исходя из результатов теста делаем вывод. Если мы не хотим рисковать то принимаем нулевую гипотезу, так как bootstrap показал что различий  CR статистически нет в группах с нулевыми значениями. Но альтернативной гипотезе тоже есть место. Наше решение, что можно запустить новую механику на пользователей, но нужно будет мониторить показатели метрик.\n",
    "\n"
   ]
  },
  {
   "cell_type": "markdown",
   "metadata": {},
   "source": [
    "**Задание 3. Python\n",
    "3.1 Задача**\n",
    "\n",
    "Реализуйте функцию, которая будет автоматически подгружать информацию из дополнительного файла groups_add.csv (заголовки могут отличаться) и на основании дополнительных параметров пересчитывать метрики.\n",
    "Реализуйте функцию, которая будет строить графики по получаемым метрикам."
   ]
  },
  {
   "cell_type": "code",
   "execution_count": 50,
   "metadata": {},
   "outputs": [
    {
     "data": {
      "text/html": [
       "<div>\n",
       "<style scoped>\n",
       "    .dataframe tbody tr th:only-of-type {\n",
       "        vertical-align: middle;\n",
       "    }\n",
       "\n",
       "    .dataframe tbody tr th {\n",
       "        vertical-align: top;\n",
       "    }\n",
       "\n",
       "    .dataframe thead th {\n",
       "        text-align: right;\n",
       "    }\n",
       "</style>\n",
       "<table border=\"1\" class=\"dataframe\">\n",
       "  <thead>\n",
       "    <tr style=\"text-align: right;\">\n",
       "      <th></th>\n",
       "      <th>id</th>\n",
       "      <th>grp</th>\n",
       "    </tr>\n",
       "  </thead>\n",
       "  <tbody>\n",
       "    <tr>\n",
       "      <th>0</th>\n",
       "      <td>5694584</td>\n",
       "      <td>B</td>\n",
       "    </tr>\n",
       "    <tr>\n",
       "      <th>1</th>\n",
       "      <td>5694830</td>\n",
       "      <td>B</td>\n",
       "    </tr>\n",
       "    <tr>\n",
       "      <th>2</th>\n",
       "      <td>5695057</td>\n",
       "      <td>B</td>\n",
       "    </tr>\n",
       "    <tr>\n",
       "      <th>3</th>\n",
       "      <td>5698872</td>\n",
       "      <td>B</td>\n",
       "    </tr>\n",
       "    <tr>\n",
       "      <th>4</th>\n",
       "      <td>5699067</td>\n",
       "      <td>B</td>\n",
       "    </tr>\n",
       "  </tbody>\n",
       "</table>\n",
       "</div>"
      ],
      "text/plain": [
       "        id grp\n",
       "0  5694584   B\n",
       "1  5694830   B\n",
       "2  5695057   B\n",
       "3  5698872   B\n",
       "4  5699067   B"
      ]
     },
     "execution_count": 50,
     "metadata": {},
     "output_type": "execute_result"
    }
   ],
   "source": [
    "group_add.head()"
   ]
  },
  {
   "cell_type": "code",
   "execution_count": 51,
   "metadata": {},
   "outputs": [],
   "source": [
    "#Чтобы активировать функцию нужен следующий формат \"oppen ('',df_original)\"\n",
    "# где '' - ссылка с яндекс диска\n",
    "# готовый дф - active_group\n",
    "def oppen (path, df_original):\n",
    "    base_url = 'https://cloud-api.yandex.net/v1/disk/public/resources/download?'\n",
    "    public_key = input('')  # Сюда вписываете вашу ссылку\n",
    "\n",
    "    # Получаем загрузочную ссылку\n",
    "    final_url = base_url + urlencode(dict(public_key=public_key))\n",
    "    response = requests.get(final_url)\n",
    "    path = response.json()['href']\n",
    "\n",
    "    group_add = pd.read_csv(path)\n",
    "    group_add1 = group_add.merge(checks, how='left')#добавляем информацию о покупках из дф checks в дополнительный файл\n",
    "    group_add1['rev']=group_add1.rev.fillna(0)#ставимнули в пустые значения\n",
    "    group_add1['active_id']=group_add1.rev.apply(lambda rev: 1 if rev>0 else 0)#с помощью лямбды ставим флажки в виде 1 активным пользоватлям\n",
    "    df_2=df_original.copy()#делаем копию оригинального дф\n",
    "    df_2=df_2.merge(group_add1, how='outer')#добавляем к оригиналу дополнительный файл\n",
    "    #расчитываем метрики для оригинального дф\n",
    "    df_original = df_original.groupby('grp', as_index=False)\\\n",
    "            .agg({'rev': 'mean', 'active_id': 'sum', 'id': 'count'})\\\n",
    "            .rename(columns={'rev': 'avg_revenue', 'active_id': 'count_active', 'id': 'count_users'})\n",
    "    df_original['conversion'] = df_original.count_active / df_original.count_users\n",
    "#     Теперь метрики для измененного df\n",
    "    df_2 = df_2.groupby('grp', as_index=False)\\\n",
    "        .agg({'rev': 'mean', 'active_id': 'sum', 'id': 'count'})\\\n",
    "        .rename(columns={'rev': 'avg_revenue', 'active_id': 'count_active', 'id': 'count_users'})\n",
    "    df_2['conversion'] = df_2.count_active / df_2.count_users\n",
    "    print('\\t\\t  Исходные метрики')\n",
    "    print(df_original)\n",
    "    print()\n",
    "    print('\\t     Метрики поcле обновления данных')\n",
    "    print(df_2)\n",
    "    return df_2.head()"
   ]
  },
  {
   "cell_type": "code",
   "execution_count": 52,
   "metadata": {},
   "outputs": [],
   "source": [
    "def visualization (visualization_oppen):\n",
    "    plt.figure(figsize=(10,10))\n",
    "    plt.subplots_adjust(hspace=0.5)\n",
    "    plt.subplots_adjust(wspace=0.5)\n",
    "    plt.subplot(2, 2, 1)\n",
    "    sns.barplot(x='grp', y='count_active', data=visualization_oppen)\n",
    "    plt.title('кол-во активных пользователей')\n",
    "    plt.subplot(2, 2, 2)\n",
    "    sns.barplot(x='grp', y='count_users', data=visualization_oppen)\n",
    "    plt.title('кол-во всех пользвателей пользователей')\n",
    "    plt.subplot(2, 2, 3)\n",
    "    sns.barplot(x='grp', y='avg_revenue', data=visualization_oppen)\n",
    "    plt.title('средний чек по группам')\n",
    "    plt.subplot(2, 2, 4)\n",
    "    sns.barplot(x='grp', y='conversion', data=visualization_oppen)\n",
    "    plt.title('конверсия по группам')\n",
    "    plt.show()"
   ]
  },
  {
   "cell_type": "code",
   "execution_count": 53,
   "metadata": {},
   "outputs": [
    {
     "name": "stdout",
     "output_type": "stream",
     "text": [
      "Для подгрузки даных и перерасчет метрик введите ссылку на яндекс диск, где расположен дополнительный файл\n",
      "https://disk.yandex.ru/d/5Kxrz02m3IBUwQ\n",
      "\t\t  Исходные метрики\n",
      "  grp  avg_revenue  count_active  count_users  conversion\n",
      "0   A    47.439739            78         1535    0.050814\n",
      "1   B    57.864567           313         6793    0.046077\n",
      "\n",
      "\t     Метрики поcле обновления данных\n",
      "  grp  avg_revenue  count_active  count_users  conversion\n",
      "0   A    46.769428            78         1557    0.050096\n",
      "1   B    57.551217           314         6863    0.045753\n"
     ]
    },
    {
     "data": {
      "text/html": [
       "<div>\n",
       "<style scoped>\n",
       "    .dataframe tbody tr th:only-of-type {\n",
       "        vertical-align: middle;\n",
       "    }\n",
       "\n",
       "    .dataframe tbody tr th {\n",
       "        vertical-align: top;\n",
       "    }\n",
       "\n",
       "    .dataframe thead th {\n",
       "        text-align: right;\n",
       "    }\n",
       "</style>\n",
       "<table border=\"1\" class=\"dataframe\">\n",
       "  <thead>\n",
       "    <tr style=\"text-align: right;\">\n",
       "      <th></th>\n",
       "      <th>grp</th>\n",
       "      <th>avg_revenue</th>\n",
       "      <th>count_active</th>\n",
       "      <th>count_users</th>\n",
       "      <th>conversion</th>\n",
       "    </tr>\n",
       "  </thead>\n",
       "  <tbody>\n",
       "    <tr>\n",
       "      <th>0</th>\n",
       "      <td>A</td>\n",
       "      <td>46.769428</td>\n",
       "      <td>78</td>\n",
       "      <td>1557</td>\n",
       "      <td>0.050096</td>\n",
       "    </tr>\n",
       "    <tr>\n",
       "      <th>1</th>\n",
       "      <td>B</td>\n",
       "      <td>57.551217</td>\n",
       "      <td>314</td>\n",
       "      <td>6863</td>\n",
       "      <td>0.045753</td>\n",
       "    </tr>\n",
       "  </tbody>\n",
       "</table>\n",
       "</div>"
      ],
      "text/plain": [
       "  grp  avg_revenue  count_active  count_users  conversion\n",
       "0   A    46.769428            78         1557    0.050096\n",
       "1   B    57.551217           314         6863    0.045753"
      ]
     },
     "execution_count": 53,
     "metadata": {},
     "output_type": "execute_result"
    }
   ],
   "source": [
    "print('Для подгрузки даных и перерасчет метрик введите ссылку на яндекс диск, где расположен дополнительный файл')\n",
    "oppen('',active_group)"
   ]
  },
  {
   "cell_type": "code",
   "execution_count": 54,
   "metadata": {},
   "outputs": [
    {
     "name": "stdout",
     "output_type": "stream",
     "text": [
      "чтобы вызвать функцию постройки графиков, введите ссылку яндекс диска на дополнительный файл\n",
      "https://disk.yandex.ru/d/5Kxrz02m3IBUwQ\n",
      "\t\t  Исходные метрики\n",
      "  grp  avg_revenue  count_active  count_users  conversion\n",
      "0   A    47.439739            78         1535    0.050814\n",
      "1   B    57.864567           313         6793    0.046077\n",
      "\n",
      "\t     Метрики поcле обновления данных\n",
      "  grp  avg_revenue  count_active  count_users  conversion\n",
      "0   A    46.769428            78         1557    0.050096\n",
      "1   B    57.551217           314         6863    0.045753\n"
     ]
    }
   ],
   "source": [
    "print('чтобы вызвать функцию постройки графиков, введите ссылку яндекс диска на дополнительный файл')\n",
    "visualization_oppen = oppen('',active_group)"
   ]
  },
  {
   "cell_type": "code",
   "execution_count": 60,
   "metadata": {},
   "outputs": [
    {
     "data": {
      "image/png": "[encoded data removed]",
      "text/plain": [
       "<Figure size 720x720 with 4 Axes>"
      ]
     },
     "metadata": {},
     "output_type": "display_data"
    }
   ],
   "source": [
    "visualization(visualization_oppen)"
   ]
  }
 ],
 "metadata": {
  "kernelspec": {
   "display_name": "Python 3",
   "language": "python",
   "name": "python3"
  },
  "language_info": {
   "codemirror_mode": {
    "name": "ipython",
    "version": 3
   },
   "file_extension": ".py",
   "mimetype": "text/x-python",
   "name": "python",
   "nbconvert_exporter": "python",
   "pygments_lexer": "ipython3",
   "version": "3.7.3"
  }
 },
 "nbformat": 4,
 "nbformat_minor": 4
}
